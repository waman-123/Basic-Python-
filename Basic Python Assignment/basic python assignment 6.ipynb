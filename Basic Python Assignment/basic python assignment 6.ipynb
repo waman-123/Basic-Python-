{
 "cells": [
  {
   "cell_type": "markdown",
   "id": "0fb2ffcd",
   "metadata": {},
   "source": [
    "# Assingment 6"
   ]
  },
  {
   "cell_type": "markdown",
   "id": "7569c7ca",
   "metadata": {},
   "source": [
    "Q.1. What are escape characters, and how do you use them?\n",
    "\n",
    "An escape character may not have its own meaning, so all escape sequences are of two or more characters.\n",
    "\n",
    " Escape characters are part of the syntax for many programming languages, data formats, and communication protocols. For a given alphabet an escape character's purpose is to start character sequences (so named escape sequences), which have to be interpreted differently from the same characters occurring without the prefixed escape character.\n",
    "\n",
    "The functions of escape sequences include:\n",
    "\n",
    "To encode a syntactic entity, such as device commands or special data, which cannot be directly represented by the alphabet.\n",
    "To represent characters, referred to as character quoting, which cannot be typed in the current context, or would have an undesired interpretation. In this case, an escape sequence is a digraph consisting of an escape character itself and a \"quoted\" character."
   ]
  },
  {
   "cell_type": "markdown",
   "id": "228255fc",
   "metadata": {},
   "source": [
    " 2. What do the escape characters \\n and \\t stand for?\n",
    "Ans:- \\n: This represents a newline character. When a string contains this character, it is printed on a new line.\n",
    "\n",
    "\\t: This represents a tab character. When a string contains this character, it is printed with an indentation.\n",
    "\n",
    ": This represents a backslash character. When a string contains this character, it is printed as a backslash.\n",
    "\n",
    "': This represents a single quote character. When a string contains this character, it is printed as a single quote.\n",
    "\n",
    "\": This represents a double quote character. When a string contains this character, it is printed as a double quote."
   ]
  },
  {
   "cell_type": "markdown",
   "id": "de83dfee",
   "metadata": {},
   "source": [
    "3. What is the way to include backslash characters in a string?\n",
    "Ans:- To include a backslash characters in a string, you have write double blackslash i.e. ."
   ]
  },
  {
   "cell_type": "code",
   "execution_count": 1,
   "id": "5656b120",
   "metadata": {},
   "outputs": [
    {
     "name": "stdout",
     "output_type": "stream",
     "text": [
      "This is a newline character: \n",
      "\n",
      "This is a tab character: \t .\n",
      "This is a backslash character: \\.\n",
      "This is a single quote character: '.\n",
      "This is a double quote character: \".\n"
     ]
    }
   ],
   "source": [
    "print(\"This is a newline character: \\n\")\n",
    "\n",
    "print(\"This is a tab character: \\t .\")\n",
    "   \n",
    "print(\"This is a backslash character: \\\\.\")\n",
    "\n",
    "print(\"This is a single quote character: \\'.\")\n",
    "\n",
    "print(\"This is a double quote character: \\\".\")"
   ]
  },
  {
   "cell_type": "markdown",
   "id": "cefb7f77",
   "metadata": {},
   "source": [
    "4. The string \"Howl's Moving Castle\" is a correct value. Why isn't the single quote character in the word Howl's not escaped a problem?\n",
    "Ans:- We can repressent a string within the single quote character or within the double quote character. Since we have enclosed the \"Howl's Moving Castle\" in double quote. hence the signle quote character is not a problem."
   ]
  },
  {
   "cell_type": "markdown",
   "id": "c441d555",
   "metadata": {},
   "source": [
    "5. How do you write a string of newlines if you don't want to use the n character?\n",
    "Ans:- We can write end=\"\" in the print statement"
   ]
  },
  {
   "cell_type": "markdown",
   "id": "73a2d4a3",
   "metadata": {},
   "source": [
    "6. What are the values of the given expressions?\n",
    "Ans:-"
   ]
  },
  {
   "cell_type": "code",
   "execution_count": null,
   "id": "3e56d660",
   "metadata": {},
   "outputs": [],
   "source": [
    "print('Hello, world!'[1])\n",
    "print('Hello, world!'[0:5])\n",
    "print('Hello, world!'[:5])\n",
    "print('Hello, world!'[3:])"
   ]
  },
  {
   "cell_type": "markdown",
   "id": "aee9285c",
   "metadata": {},
   "source": [
    "7. What are the values of the following expressions?"
   ]
  },
  {
   "cell_type": "code",
   "execution_count": 2,
   "id": "47c61b6a",
   "metadata": {},
   "outputs": [
    {
     "name": "stdout",
     "output_type": "stream",
     "text": [
      "HELLO\n",
      "True\n",
      "hello\n"
     ]
    }
   ],
   "source": [
    "print('Hello'.upper())\n",
    "print('Hello'.upper().isupper())\n",
    "print('Hello'.upper().lower())"
   ]
  },
  {
   "cell_type": "markdown",
   "id": "f29634a0",
   "metadata": {},
   "source": [
    "8. What are the values of the following expressions? 'Remember, remember, the fifth of July.'.split() '-'.join('There can only one.'.split())\n",
    "Ans:-"
   ]
  },
  {
   "cell_type": "code",
   "execution_count": 3,
   "id": "91057b66",
   "metadata": {},
   "outputs": [
    {
     "name": "stdout",
     "output_type": "stream",
     "text": [
      "['Remember,', 'remember,', 'the', 'fifth', 'of', 'July.']\n",
      "There_can_only_one\n"
     ]
    }
   ],
   "source": [
    "print('Remember, remember, the fifth of July.'.split()) # ['Remember,', 'remember,', 'the', 'fifth', 'of', 'July.']\n",
    "print('_'.join('There can only one'.split()))  #There_can_only_one"
   ]
  },
  {
   "cell_type": "markdown",
   "id": "a55a9d29",
   "metadata": {},
   "source": [
    "9. What are the methods for right-justifying, left-justifying, and centering a string?\n",
    "Ans:- The methods for right-justifying, left-justifying, and centering a string are rjust(), ljust() and center() respectively."
   ]
  },
  {
   "cell_type": "code",
   "execution_count": 5,
   "id": "0e58183d",
   "metadata": {},
   "outputs": [
    {
     "name": "stdout",
     "output_type": "stream",
     "text": [
      "-----hello\n",
      "hello-----\n",
      "--hello---\n"
     ]
    }
   ],
   "source": [
    "# Right-justify a string using the '-' character for padding\n",
    "s = \"hello\"\n",
    "s = s.rjust(10, '-')\n",
    "print(s)\n",
    "\n",
    "\n",
    "# Left-justify a string using the '-' character for padding\n",
    "s = \"hello\"\n",
    "s = s.ljust(10, '-')\n",
    "print(s)\n",
    "\n",
    "\n",
    "# Center a string using the '-' character for padding\n",
    "s = \"hello\"\n",
    "s = s.center(10, '-')\n",
    "print(s)"
   ]
  },
  {
   "cell_type": "markdown",
   "id": "bb6a699b",
   "metadata": {},
   "source": [
    "10. What is the best way to remove whitespace characters from the start or end?\n",
    "Ans:- The lstrip() and rstrip() methods remove whitesapce characters from the left and right ends of a string respectively"
   ]
  }
 ],
 "metadata": {
  "kernelspec": {
   "display_name": "Python 3 (ipykernel)",
   "language": "python",
   "name": "python3"
  },
  "language_info": {
   "codemirror_mode": {
    "name": "ipython",
    "version": 3
   },
   "file_extension": ".py",
   "mimetype": "text/x-python",
   "name": "python",
   "nbconvert_exporter": "python",
   "pygments_lexer": "ipython3",
   "version": "3.9.12"
  }
 },
 "nbformat": 4,
 "nbformat_minor": 5
}
